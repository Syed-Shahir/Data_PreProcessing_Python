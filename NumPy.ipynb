{
 "cells": [
  {
   "cell_type": "markdown",
   "id": "b94163ed-7f6b-4bf5-bc7c-38bacb5903ae",
   "metadata": {},
   "source": [
    "## NumPY\n"
   ]
  },
  {
   "cell_type": "markdown",
   "id": "3cfffe0c-0aee-4538-bca9-161850b34301",
   "metadata": {},
   "source": [
    "- it concists of the homogenous data type\n",
    "- there is pre compiled C code for numpy\n",
    "- it is the concept use to implement arrays and matrices\n",
    "- variuos methematical,statistical,logical and some other useful functions"
   ]
  },
  {
   "cell_type": "code",
   "execution_count": 1,
   "id": "ad0932b1-cf3a-4f9a-9c9d-ad589ddab1d5",
   "metadata": {},
   "outputs": [],
   "source": [
    "import numpy as np"
   ]
  },
  {
   "cell_type": "code",
   "execution_count": 19,
   "id": "d3456f1d-402e-48ab-aee2-4951979549ac",
   "metadata": {},
   "outputs": [
    {
     "name": "stdout",
     "output_type": "stream",
     "text": [
      "[ 1.  2.  3.  4.  5.  6.  7.  8.  9. 10. 11. 12. 13. 14. 15. 16. 17. 18.\n",
      " 19. 20. 21. 22. 23. 24. 25. 26. 27. 28. 29. 30. 31. 32. 33. 34. 35. 36.\n",
      " 37. 38. 39. 40. 41. 42. 43. 44. 45. 46. 47. 48. 49. 50. 51. 52. 53. 54.\n",
      " 55. 56. 57. 58. 59. 60. 61. 62. 63. 64. 65. 66. 67. 68. 69. 70. 71. 72.\n",
      " 73. 74. 75. 76. 77. 78. 79. 80. 81. 82. 83. 84. 85. 86. 87. 88. 89. 90.\n",
      " 91. 92. 93. 94. 95. 96. 97. 98.]\n",
      "Dimensios\n",
      "(98,)\n",
      "Array data\n",
      "[[ 1  2  3  4  5]\n",
      " [ 6  7  8  9 10]\n",
      " [11 12 13 14 15]]\n",
      "Dimensios\n",
      "(3, 5)\n"
     ]
    }
   ],
   "source": [
    "ls = [i for i in range(1,99)]\n",
    "arr = np.array(ls,dtype=float)\n",
    "arr = np.asarray(ls,dtype=float)\n",
    "print(arr)\n",
    "#now lets check the dimensions of our array \n",
    "print(\"Dimensios\")\n",
    "print(arr.shape)\n",
    "#it has got 98 rows\n",
    "#lets say we want to have a 2 dimensional array\n",
    "a = [1,2,3,4,5]\n",
    "b = [6,7,8,9,10]\n",
    "c = [11,12,13,14,15]\n",
    "arr1 = np.array([a,b,c])\n",
    "print(\"Array data\")\n",
    "print(arr1)\n",
    "print(\"Dimensios\")\n",
    "print(arr1.shape)"
   ]
  },
  {
   "cell_type": "code",
   "execution_count": 27,
   "id": "51bbe1aa-82d9-408a-9e08-34be173fe49d",
   "metadata": {},
   "outputs": [
    {
     "name": "stdout",
     "output_type": "stream",
     "text": [
      "Zeroes\n",
      "[[0. 0. 0. 0. 0.]\n",
      " [0. 0. 0. 0. 0.]\n",
      " [0. 0. 0. 0. 0.]\n",
      " [0. 0. 0. 0. 0.]\n",
      " [0. 0. 0. 0. 0.]]\n",
      "Ones\n",
      "[[1. 1. 1. 1. 1.]\n",
      " [1. 1. 1. 1. 1.]\n",
      " [1. 1. 1. 1. 1.]\n",
      " [1. 1. 1. 1. 1.]\n",
      " [1. 1. 1. 1. 1.]]\n",
      "n_value\n",
      "[[3.1 3.1 3.1 3.1 3.1]\n",
      " [3.1 3.1 3.1 3.1 3.1]\n",
      " [3.1 3.1 3.1 3.1 3.1]\n",
      " [3.1 3.1 3.1 3.1 3.1]\n",
      " [3.1 3.1 3.1 3.1 3.1]]\n",
      "Identity\n",
      "[[1. 0. 0. 0. 0.]\n",
      " [0. 1. 0. 0. 0.]\n",
      " [0. 0. 1. 0. 0.]\n",
      " [0. 0. 0. 1. 0.]\n",
      " [0. 0. 0. 0. 1.]]\n"
     ]
    }
   ],
   "source": [
    "#now lets say we want to create an array with 0's , 1's or any Value n's\n",
    "zeroes = np.zeros((5,5))\n",
    "print(\"Zeroes\")\n",
    "print(zeroes)\n",
    "\n",
    "ones = np.ones((5,5))\n",
    "print(\"Ones\")\n",
    "print(ones)\n",
    "\n",
    "n_value = np.full((5,5),3.1,dtype = float)\n",
    "print(\"n_value\")\n",
    "print(n_value)\n",
    "\n",
    "#lets say we want to have an identity matrix which has 1's at the diagnols and it has dimensions rows = columns\n",
    "identity = np.eye(5)\n",
    "print(\"Identity\")\n",
    "print(identity)"
   ]
  },
  {
   "cell_type": "code",
   "execution_count": 38,
   "id": "009dcdc1-6939-4ec6-b8f1-2afd9b87f863",
   "metadata": {},
   "outputs": [
    {
     "name": "stdout",
     "output_type": "stream",
     "text": [
      "Random Float Array with 0-1 range\n",
      "[[0.28559272 0.28267494 0.34446016]\n",
      " [0.62445154 0.91995898 0.18774183]\n",
      " [0.82045774 0.20440794 0.56382984]\n",
      " [0.43100418 0.82276258 0.27623605]\n",
      " [0.43210834 0.66124596 0.90862416]]\n",
      "Random int Array with 1-99 range\n",
      "[[21 36 85]\n",
      " [95 66 56]\n",
      " [94 41 14]\n",
      " [21 26 20]\n",
      " [ 8 71 14]]\n"
     ]
    }
   ],
   "source": [
    "random_array_float = np.random.random((5,3))\n",
    "print(\"Random Float Array with 0-1 range\")\n",
    "print(random_array_float)\n",
    "\n",
    "random_array_int = np.random.randint(1,99,(5,3))\n",
    "print(\"Random int Array with 1-99 range\")\n",
    "print(random_array_int)"
   ]
  },
  {
   "cell_type": "code",
   "execution_count": 47,
   "id": "a5989309-6662-4d6b-a0f2-16a5a52fbc04",
   "metadata": {},
   "outputs": [
    {
     "name": "stdout",
     "output_type": "stream",
     "text": [
      "[21 36 85]\n",
      "21\n",
      "[21 95 94 21  8]\n",
      "[21 36 85]\n",
      "[[21 36]\n",
      " [95 66]\n",
      " [94 41]]\n"
     ]
    }
   ],
   "source": [
    "#slicing of an array\n",
    "print(random_array_int[0])\n",
    "print(random_array_int[0][0])\n",
    "print(random_array_int[:,0])\n",
    "print(random_array_int[0,:])\n",
    "print(random_array_int[0:3,0:2])"
   ]
  },
  {
   "cell_type": "code",
   "execution_count": 61,
   "id": "4676ac9c-19b1-4689-a0df-290d6771412b",
   "metadata": {},
   "outputs": [
    {
     "name": "stdout",
     "output_type": "stream",
     "text": [
      "Linespace\n",
      "[0.         0.33069396 0.66138793 0.99208189 1.32277585 1.65346982\n",
      " 1.98416378 2.31485774 2.64555171 2.97624567 3.30693964 3.6376336\n",
      " 3.96832756 4.29902153 4.62971549 4.96040945 5.29110342 5.62179738\n",
      " 5.95249134 6.28318531]\n",
      "Arange\n",
      "[0 1 2 3 4 5 6 7 8 9]\n",
      "Datatype\n",
      "float64\n"
     ]
    }
   ],
   "source": [
    "#uniform distribution and spacing\n",
    "arr = np.linspace(0,2*np.pi,20)\n",
    "arr1 = np.arange(0,10,1)\n",
    "print(\"Linespace\")\n",
    "print(arr)\n",
    "print(\"Arange\")\n",
    "print(arr1)\n",
    "\n",
    "#to check the numbe of elements \n",
    "# print(len(arr))\n",
    "# print(arr.size)\n",
    "\n",
    "print(\"Datatype\")\n",
    "print(arr.dtype)\n"
   ]
  },
  {
   "cell_type": "code",
   "execution_count": 66,
   "id": "d759e898-619c-46ea-95c9-7b09aa1c17ab",
   "metadata": {},
   "outputs": [
    {
     "name": "stdout",
     "output_type": "stream",
     "text": [
      "[[16 42 57 39]\n",
      " [17 30 31 24]\n",
      " [36 21 38 50]\n",
      " [33 34 36 22]]\n",
      "[[ 55 377 806 248]\n",
      " [ 60 161 240 143]\n",
      " [288  80 297 589]\n",
      " [162 225 180  85]]\n",
      "[[  6 -16   5  23]\n",
      " [ -7  16  -1  -2]\n",
      " [ 12 -11 -16  12]\n",
      " [ 21  16 -24 -12]]\n",
      "[[2.2        0.44827586 1.19230769 3.875     ]\n",
      " [0.41666667 3.28571429 0.9375     0.84615385]\n",
      " [2.         0.3125     0.40740741 1.63157895]\n",
      " [4.5        2.77777778 0.2        0.29411765]]\n"
     ]
    }
   ],
   "source": [
    "#mathematical opeartions \n",
    "arr1 = np.random.randint(3,33,(4,4))\n",
    "arr2 = np.random.randint(3,33,(4,4))\n",
    "\n",
    "print(arr1+arr2)\n",
    "print(arr1*arr2)\n",
    "print(arr1-arr2)\n",
    "print(arr1/arr2)"
   ]
  },
  {
   "cell_type": "code",
   "execution_count": null,
   "id": "9d3f50a9-1392-4985-bc40-1e7ef05f9fe8",
   "metadata": {},
   "outputs": [],
   "source": []
  }
 ],
 "metadata": {
  "kernelspec": {
   "display_name": "Python 3 (ipykernel)",
   "language": "python",
   "name": "python3"
  },
  "language_info": {
   "codemirror_mode": {
    "name": "ipython",
    "version": 3
   },
   "file_extension": ".py",
   "mimetype": "text/x-python",
   "name": "python",
   "nbconvert_exporter": "python",
   "pygments_lexer": "ipython3",
   "version": "3.11.9"
  }
 },
 "nbformat": 4,
 "nbformat_minor": 5
}
